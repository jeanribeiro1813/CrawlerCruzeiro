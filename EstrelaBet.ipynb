{
 "cells": [
  {
   "cell_type": "code",
   "execution_count": 65,
   "id": "0e952524",
   "metadata": {},
   "outputs": [],
   "source": [
    "from bs4 import BeautifulSoup\n",
    "from selenium import webdriver\n",
    "from selenium.webdriver.common.by import By\n",
    "from unidecode import unidecode"
   ]
  },
  {
   "cell_type": "code",
   "execution_count": 73,
   "id": "f5c3ec06",
   "metadata": {},
   "outputs": [
    {
     "name": "stderr",
     "output_type": "stream",
     "text": [
      "C:\\Users\\Jean Ribeiro\\AppData\\Local\\Temp\\ipykernel_17852\\1253181362.py:1: DeprecationWarning: executable_path has been deprecated, please pass in a Service object\n",
      "  driver = webdriver.Chrome(\n"
     ]
    }
   ],
   "source": [
    "driver = webdriver.Chrome(\n",
    "            'D:/Download/driver/chromedriver.exe')"
   ]
  },
  {
   "cell_type": "code",
   "execution_count": 74,
   "id": "f155295a",
   "metadata": {},
   "outputs": [],
   "source": [
    "driver.get('https://estrelabet.com/ptb/bet/main')"
   ]
  },
  {
   "cell_type": "code",
   "execution_count": 75,
   "id": "f8405da2",
   "metadata": {},
   "outputs": [],
   "source": [
    "driver.maximize_window()"
   ]
  },
  {
   "cell_type": "code",
   "execution_count": 76,
   "id": "dec3d8ff",
   "metadata": {},
   "outputs": [],
   "source": [
    "driver.get('https://estrelabet.com/ptb/bet/search/Cruzeiro')"
   ]
  },
  {
   "cell_type": "code",
   "execution_count": 78,
   "id": "60cd648a",
   "metadata": {},
   "outputs": [],
   "source": [
    "cruzeiro = driver.find_element(By.CSS_SELECTOR,'#container-main > app-fixture-search > div.srch.page > div.modul-accordion.sportType > div.modul-content > div:nth-child(1) > div.modul-content').text.split('\\n')"
   ]
  },
  {
   "cell_type": "code",
   "execution_count": 72,
   "id": "cc488cec",
   "metadata": {},
   "outputs": [
    {
     "name": "stdout",
     "output_type": "stream",
     "text": [
      "sábado 10/06/2023 - 18:30|Bahia X Cruzeiro|Vitoria - 2.34 - Bahia |3.36 - Empate|Vitoria - 3.18 - Cruzeiro\n",
      "\n"
     ]
    }
   ],
   "source": [
    "data = cruzeiro[4]\n",
    "horario = cruzeiro[5]\n",
    "\n",
    "adiversario = cruzeiro[6]\n",
    "principal = cruzeiro[7]\n",
    "\n",
    "vitoriaBh = ' - '.join(cruzeiro[10:12])\n",
    "\n",
    "empate = ' - '.join(cruzeiro[12:14])\n",
    "vitoria_cruz=' - '.join(cruzeiro[14:16])\n",
    "\n",
    "print(f\"{data} - {horario}|{adiversario} X {principal}|Vitoria - {vitoriaBh} |{empate}|Vitoria - {vitoria_cruz}\\n\")"
   ]
  }
 ],
 "metadata": {
  "kernelspec": {
   "display_name": "Python 3 (ipykernel)",
   "language": "python",
   "name": "python3"
  },
  "language_info": {
   "codemirror_mode": {
    "name": "ipython",
    "version": 3
   },
   "file_extension": ".py",
   "mimetype": "text/x-python",
   "name": "python",
   "nbconvert_exporter": "python",
   "pygments_lexer": "ipython3",
   "version": "3.9.16"
  }
 },
 "nbformat": 4,
 "nbformat_minor": 5
}
